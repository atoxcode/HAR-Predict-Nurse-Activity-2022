{
 "cells": [
  {
   "cell_type": "markdown",
   "metadata": {
    "id": "uNYGIG_NIpN7"
   },
   "source": [
    "This notebook has been designed for the nurse care activity recognition challenge competition with the the aim of providing the basic knowledge of Human Activity Recognition by accelerometer.\n",
    "\n",
    "It has been made by Le Nhat Tan."
   ]
  },
  {
   "cell_type": "markdown",
   "metadata": {
    "id": "P9mj87n6IyaC"
   },
   "source": [
    "# Exploring the data"
   ]
  },
  {
   "cell_type": "code",
   "execution_count": 2,
   "metadata": {
    "executionInfo": {
     "elapsed": 860,
     "status": "ok",
     "timestamp": 1618484468406,
     "user": {
      "displayName": "Nhật Tân Lê",
      "photoUrl": "",
      "userId": "10252455260261302381"
     },
     "user_tz": -540
    },
    "id": "kXEo3uaHIcOi"
   },
   "outputs": [],
   "source": [
    "import pandas as pd\n",
    "import numpy as np\n",
    "%matplotlib inline  "
   ]
  },
  {
   "cell_type": "markdown",
   "metadata": {
    "id": "Jddo56RWKEgL"
   },
   "source": [
    "First, we have to load the data and label file. In this tutorial, we only use the train data of 1 user to reduce the time of the whole process."
   ]
  },
  {
   "cell_type": "code",
   "execution_count": 3,
   "metadata": {
    "collapsed": true,
    "executionInfo": {
     "elapsed": 12653,
     "status": "ok",
     "timestamp": 1618486747954,
     "user": {
      "displayName": "Nhật Tân Lê",
      "photoUrl": "",
      "userId": "10252455260261302381"
     },
     "user_tz": -540
    },
    "id": "OGi7m-HMIn8L",
    "jupyter": {
     "outputs_hidden": true
    },
    "tags": []
   },
   "outputs": [
    {
     "ename": "FileNotFoundError",
     "evalue": "[Errno 2] No such file or directory: 'acc_user2.csv'",
     "output_type": "error",
     "traceback": [
      "\u001b[0;31m---------------------------------------------------------------------------\u001b[0m",
      "\u001b[0;31mFileNotFoundError\u001b[0m                         Traceback (most recent call last)",
      "\u001b[0;32m/var/folders/ly/gtnzqggj0tj1d_w24wl7yx980000gn/T/ipykernel_15584/3611844584.py\u001b[0m in \u001b[0;36m<module>\u001b[0;34m\u001b[0m\n\u001b[1;32m      1\u001b[0m \u001b[0;31m#Load data\u001b[0m\u001b[0;34m\u001b[0m\u001b[0;34m\u001b[0m\u001b[0;34m\u001b[0m\u001b[0m\n\u001b[0;32m----> 2\u001b[0;31m \u001b[0mdf\u001b[0m\u001b[0;34m=\u001b[0m\u001b[0mpd\u001b[0m\u001b[0;34m.\u001b[0m\u001b[0mread_csv\u001b[0m\u001b[0;34m(\u001b[0m\u001b[0;34m'acc_user2.csv'\u001b[0m\u001b[0;34m)\u001b[0m\u001b[0;34m\u001b[0m\u001b[0;34m\u001b[0m\u001b[0m\n\u001b[0m\u001b[1;32m      3\u001b[0m \u001b[0mdf_label\u001b[0m\u001b[0;34m=\u001b[0m\u001b[0mpd\u001b[0m\u001b[0;34m.\u001b[0m\u001b[0mread_csv\u001b[0m\u001b[0;34m(\u001b[0m\u001b[0;34m'label/label_train.csv'\u001b[0m\u001b[0;34m)\u001b[0m\u001b[0;34m\u001b[0m\u001b[0;34m\u001b[0m\u001b[0m\n",
      "\u001b[0;32m/Library/Frameworks/Python.framework/Versions/3.8/lib/python3.8/site-packages/pandas/util/_decorators.py\u001b[0m in \u001b[0;36mwrapper\u001b[0;34m(*args, **kwargs)\u001b[0m\n\u001b[1;32m    309\u001b[0m                     \u001b[0mstacklevel\u001b[0m\u001b[0;34m=\u001b[0m\u001b[0mstacklevel\u001b[0m\u001b[0;34m,\u001b[0m\u001b[0;34m\u001b[0m\u001b[0;34m\u001b[0m\u001b[0m\n\u001b[1;32m    310\u001b[0m                 )\n\u001b[0;32m--> 311\u001b[0;31m             \u001b[0;32mreturn\u001b[0m \u001b[0mfunc\u001b[0m\u001b[0;34m(\u001b[0m\u001b[0;34m*\u001b[0m\u001b[0margs\u001b[0m\u001b[0;34m,\u001b[0m \u001b[0;34m**\u001b[0m\u001b[0mkwargs\u001b[0m\u001b[0;34m)\u001b[0m\u001b[0;34m\u001b[0m\u001b[0;34m\u001b[0m\u001b[0m\n\u001b[0m\u001b[1;32m    312\u001b[0m \u001b[0;34m\u001b[0m\u001b[0m\n\u001b[1;32m    313\u001b[0m         \u001b[0;32mreturn\u001b[0m \u001b[0mwrapper\u001b[0m\u001b[0;34m\u001b[0m\u001b[0;34m\u001b[0m\u001b[0m\n",
      "\u001b[0;32m/Library/Frameworks/Python.framework/Versions/3.8/lib/python3.8/site-packages/pandas/io/parsers/readers.py\u001b[0m in \u001b[0;36mread_csv\u001b[0;34m(filepath_or_buffer, sep, delimiter, header, names, index_col, usecols, squeeze, prefix, mangle_dupe_cols, dtype, engine, converters, true_values, false_values, skipinitialspace, skiprows, skipfooter, nrows, na_values, keep_default_na, na_filter, verbose, skip_blank_lines, parse_dates, infer_datetime_format, keep_date_col, date_parser, dayfirst, cache_dates, iterator, chunksize, compression, thousands, decimal, lineterminator, quotechar, quoting, doublequote, escapechar, comment, encoding, encoding_errors, dialect, error_bad_lines, warn_bad_lines, on_bad_lines, delim_whitespace, low_memory, memory_map, float_precision, storage_options)\u001b[0m\n\u001b[1;32m    584\u001b[0m     \u001b[0mkwds\u001b[0m\u001b[0;34m.\u001b[0m\u001b[0mupdate\u001b[0m\u001b[0;34m(\u001b[0m\u001b[0mkwds_defaults\u001b[0m\u001b[0;34m)\u001b[0m\u001b[0;34m\u001b[0m\u001b[0;34m\u001b[0m\u001b[0m\n\u001b[1;32m    585\u001b[0m \u001b[0;34m\u001b[0m\u001b[0m\n\u001b[0;32m--> 586\u001b[0;31m     \u001b[0;32mreturn\u001b[0m \u001b[0m_read\u001b[0m\u001b[0;34m(\u001b[0m\u001b[0mfilepath_or_buffer\u001b[0m\u001b[0;34m,\u001b[0m \u001b[0mkwds\u001b[0m\u001b[0;34m)\u001b[0m\u001b[0;34m\u001b[0m\u001b[0;34m\u001b[0m\u001b[0m\n\u001b[0m\u001b[1;32m    587\u001b[0m \u001b[0;34m\u001b[0m\u001b[0m\n\u001b[1;32m    588\u001b[0m \u001b[0;34m\u001b[0m\u001b[0m\n",
      "\u001b[0;32m/Library/Frameworks/Python.framework/Versions/3.8/lib/python3.8/site-packages/pandas/io/parsers/readers.py\u001b[0m in \u001b[0;36m_read\u001b[0;34m(filepath_or_buffer, kwds)\u001b[0m\n\u001b[1;32m    480\u001b[0m \u001b[0;34m\u001b[0m\u001b[0m\n\u001b[1;32m    481\u001b[0m     \u001b[0;31m# Create the parser.\u001b[0m\u001b[0;34m\u001b[0m\u001b[0;34m\u001b[0m\u001b[0;34m\u001b[0m\u001b[0m\n\u001b[0;32m--> 482\u001b[0;31m     \u001b[0mparser\u001b[0m \u001b[0;34m=\u001b[0m \u001b[0mTextFileReader\u001b[0m\u001b[0;34m(\u001b[0m\u001b[0mfilepath_or_buffer\u001b[0m\u001b[0;34m,\u001b[0m \u001b[0;34m**\u001b[0m\u001b[0mkwds\u001b[0m\u001b[0;34m)\u001b[0m\u001b[0;34m\u001b[0m\u001b[0;34m\u001b[0m\u001b[0m\n\u001b[0m\u001b[1;32m    483\u001b[0m \u001b[0;34m\u001b[0m\u001b[0m\n\u001b[1;32m    484\u001b[0m     \u001b[0;32mif\u001b[0m \u001b[0mchunksize\u001b[0m \u001b[0;32mor\u001b[0m \u001b[0miterator\u001b[0m\u001b[0;34m:\u001b[0m\u001b[0;34m\u001b[0m\u001b[0;34m\u001b[0m\u001b[0m\n",
      "\u001b[0;32m/Library/Frameworks/Python.framework/Versions/3.8/lib/python3.8/site-packages/pandas/io/parsers/readers.py\u001b[0m in \u001b[0;36m__init__\u001b[0;34m(self, f, engine, **kwds)\u001b[0m\n\u001b[1;32m    809\u001b[0m             \u001b[0mself\u001b[0m\u001b[0;34m.\u001b[0m\u001b[0moptions\u001b[0m\u001b[0;34m[\u001b[0m\u001b[0;34m\"has_index_names\"\u001b[0m\u001b[0;34m]\u001b[0m \u001b[0;34m=\u001b[0m \u001b[0mkwds\u001b[0m\u001b[0;34m[\u001b[0m\u001b[0;34m\"has_index_names\"\u001b[0m\u001b[0;34m]\u001b[0m\u001b[0;34m\u001b[0m\u001b[0;34m\u001b[0m\u001b[0m\n\u001b[1;32m    810\u001b[0m \u001b[0;34m\u001b[0m\u001b[0m\n\u001b[0;32m--> 811\u001b[0;31m         \u001b[0mself\u001b[0m\u001b[0;34m.\u001b[0m\u001b[0m_engine\u001b[0m \u001b[0;34m=\u001b[0m \u001b[0mself\u001b[0m\u001b[0;34m.\u001b[0m\u001b[0m_make_engine\u001b[0m\u001b[0;34m(\u001b[0m\u001b[0mself\u001b[0m\u001b[0;34m.\u001b[0m\u001b[0mengine\u001b[0m\u001b[0;34m)\u001b[0m\u001b[0;34m\u001b[0m\u001b[0;34m\u001b[0m\u001b[0m\n\u001b[0m\u001b[1;32m    812\u001b[0m \u001b[0;34m\u001b[0m\u001b[0m\n\u001b[1;32m    813\u001b[0m     \u001b[0;32mdef\u001b[0m \u001b[0mclose\u001b[0m\u001b[0;34m(\u001b[0m\u001b[0mself\u001b[0m\u001b[0;34m)\u001b[0m\u001b[0;34m:\u001b[0m\u001b[0;34m\u001b[0m\u001b[0;34m\u001b[0m\u001b[0m\n",
      "\u001b[0;32m/Library/Frameworks/Python.framework/Versions/3.8/lib/python3.8/site-packages/pandas/io/parsers/readers.py\u001b[0m in \u001b[0;36m_make_engine\u001b[0;34m(self, engine)\u001b[0m\n\u001b[1;32m   1038\u001b[0m             )\n\u001b[1;32m   1039\u001b[0m         \u001b[0;31m# error: Too many arguments for \"ParserBase\"\u001b[0m\u001b[0;34m\u001b[0m\u001b[0;34m\u001b[0m\u001b[0;34m\u001b[0m\u001b[0m\n\u001b[0;32m-> 1040\u001b[0;31m         \u001b[0;32mreturn\u001b[0m \u001b[0mmapping\u001b[0m\u001b[0;34m[\u001b[0m\u001b[0mengine\u001b[0m\u001b[0;34m]\u001b[0m\u001b[0;34m(\u001b[0m\u001b[0mself\u001b[0m\u001b[0;34m.\u001b[0m\u001b[0mf\u001b[0m\u001b[0;34m,\u001b[0m \u001b[0;34m**\u001b[0m\u001b[0mself\u001b[0m\u001b[0;34m.\u001b[0m\u001b[0moptions\u001b[0m\u001b[0;34m)\u001b[0m  \u001b[0;31m# type: ignore[call-arg]\u001b[0m\u001b[0;34m\u001b[0m\u001b[0;34m\u001b[0m\u001b[0m\n\u001b[0m\u001b[1;32m   1041\u001b[0m \u001b[0;34m\u001b[0m\u001b[0m\n\u001b[1;32m   1042\u001b[0m     \u001b[0;32mdef\u001b[0m \u001b[0m_failover_to_python\u001b[0m\u001b[0;34m(\u001b[0m\u001b[0mself\u001b[0m\u001b[0;34m)\u001b[0m\u001b[0;34m:\u001b[0m\u001b[0;34m\u001b[0m\u001b[0;34m\u001b[0m\u001b[0m\n",
      "\u001b[0;32m/Library/Frameworks/Python.framework/Versions/3.8/lib/python3.8/site-packages/pandas/io/parsers/c_parser_wrapper.py\u001b[0m in \u001b[0;36m__init__\u001b[0;34m(self, src, **kwds)\u001b[0m\n\u001b[1;32m     49\u001b[0m \u001b[0;34m\u001b[0m\u001b[0m\n\u001b[1;32m     50\u001b[0m         \u001b[0;31m# open handles\u001b[0m\u001b[0;34m\u001b[0m\u001b[0;34m\u001b[0m\u001b[0;34m\u001b[0m\u001b[0m\n\u001b[0;32m---> 51\u001b[0;31m         \u001b[0mself\u001b[0m\u001b[0;34m.\u001b[0m\u001b[0m_open_handles\u001b[0m\u001b[0;34m(\u001b[0m\u001b[0msrc\u001b[0m\u001b[0;34m,\u001b[0m \u001b[0mkwds\u001b[0m\u001b[0;34m)\u001b[0m\u001b[0;34m\u001b[0m\u001b[0;34m\u001b[0m\u001b[0m\n\u001b[0m\u001b[1;32m     52\u001b[0m         \u001b[0;32massert\u001b[0m \u001b[0mself\u001b[0m\u001b[0;34m.\u001b[0m\u001b[0mhandles\u001b[0m \u001b[0;32mis\u001b[0m \u001b[0;32mnot\u001b[0m \u001b[0;32mNone\u001b[0m\u001b[0;34m\u001b[0m\u001b[0;34m\u001b[0m\u001b[0m\n\u001b[1;32m     53\u001b[0m \u001b[0;34m\u001b[0m\u001b[0m\n",
      "\u001b[0;32m/Library/Frameworks/Python.framework/Versions/3.8/lib/python3.8/site-packages/pandas/io/parsers/base_parser.py\u001b[0m in \u001b[0;36m_open_handles\u001b[0;34m(self, src, kwds)\u001b[0m\n\u001b[1;32m    220\u001b[0m         \u001b[0mLet\u001b[0m \u001b[0mthe\u001b[0m \u001b[0mreaders\u001b[0m \u001b[0mopen\u001b[0m \u001b[0mIOHandles\u001b[0m \u001b[0mafter\u001b[0m \u001b[0mthey\u001b[0m \u001b[0mare\u001b[0m \u001b[0mdone\u001b[0m \u001b[0;32mwith\u001b[0m \u001b[0mtheir\u001b[0m \u001b[0mpotential\u001b[0m \u001b[0mraises\u001b[0m\u001b[0;34m.\u001b[0m\u001b[0;34m\u001b[0m\u001b[0;34m\u001b[0m\u001b[0m\n\u001b[1;32m    221\u001b[0m         \"\"\"\n\u001b[0;32m--> 222\u001b[0;31m         self.handles = get_handle(\n\u001b[0m\u001b[1;32m    223\u001b[0m             \u001b[0msrc\u001b[0m\u001b[0;34m,\u001b[0m\u001b[0;34m\u001b[0m\u001b[0;34m\u001b[0m\u001b[0m\n\u001b[1;32m    224\u001b[0m             \u001b[0;34m\"r\"\u001b[0m\u001b[0;34m,\u001b[0m\u001b[0;34m\u001b[0m\u001b[0;34m\u001b[0m\u001b[0m\n",
      "\u001b[0;32m/Library/Frameworks/Python.framework/Versions/3.8/lib/python3.8/site-packages/pandas/io/common.py\u001b[0m in \u001b[0;36mget_handle\u001b[0;34m(path_or_buf, mode, encoding, compression, memory_map, is_text, errors, storage_options)\u001b[0m\n\u001b[1;32m    699\u001b[0m         \u001b[0;32mif\u001b[0m \u001b[0mioargs\u001b[0m\u001b[0;34m.\u001b[0m\u001b[0mencoding\u001b[0m \u001b[0;32mand\u001b[0m \u001b[0;34m\"b\"\u001b[0m \u001b[0;32mnot\u001b[0m \u001b[0;32min\u001b[0m \u001b[0mioargs\u001b[0m\u001b[0;34m.\u001b[0m\u001b[0mmode\u001b[0m\u001b[0;34m:\u001b[0m\u001b[0;34m\u001b[0m\u001b[0;34m\u001b[0m\u001b[0m\n\u001b[1;32m    700\u001b[0m             \u001b[0;31m# Encoding\u001b[0m\u001b[0;34m\u001b[0m\u001b[0;34m\u001b[0m\u001b[0;34m\u001b[0m\u001b[0m\n\u001b[0;32m--> 701\u001b[0;31m             handle = open(\n\u001b[0m\u001b[1;32m    702\u001b[0m                 \u001b[0mhandle\u001b[0m\u001b[0;34m,\u001b[0m\u001b[0;34m\u001b[0m\u001b[0;34m\u001b[0m\u001b[0m\n\u001b[1;32m    703\u001b[0m                 \u001b[0mioargs\u001b[0m\u001b[0;34m.\u001b[0m\u001b[0mmode\u001b[0m\u001b[0;34m,\u001b[0m\u001b[0;34m\u001b[0m\u001b[0;34m\u001b[0m\u001b[0m\n",
      "\u001b[0;31mFileNotFoundError\u001b[0m: [Errno 2] No such file or directory: 'acc_user2.csv'"
     ]
    }
   ],
   "source": [
    "#Load data\n",
    "df=pd.read_csv('acc_user2.csv')\n",
    "df_label=pd.read_csv('label/label_train.csv')"
   ]
  },
  {
   "cell_type": "markdown",
   "metadata": {
    "id": "oZAqZi1UKoid"
   },
   "source": [
    "Let's check what information the data contains."
   ]
  },
  {
   "cell_type": "code",
   "execution_count": 45,
   "metadata": {
    "colab": {
     "base_uri": "https://localhost:8080/",
     "height": 202
    },
    "executionInfo": {
     "elapsed": 565,
     "status": "ok",
     "timestamp": 1618486750828,
     "user": {
      "displayName": "Nhật Tân Lê",
      "photoUrl": "",
      "userId": "10252455260261302381"
     },
     "user_tz": -540
    },
    "id": "slC5AgZLKcsC",
    "outputId": "06a3c1c8-c926-4e3b-b5f2-ba4f9645d7dc"
   },
   "outputs": [
    {
     "data": {
      "text/html": [
       "<div>\n",
       "<style scoped>\n",
       "    .dataframe tbody tr th:only-of-type {\n",
       "        vertical-align: middle;\n",
       "    }\n",
       "\n",
       "    .dataframe tbody tr th {\n",
       "        vertical-align: top;\n",
       "    }\n",
       "\n",
       "    .dataframe thead th {\n",
       "        text-align: right;\n",
       "    }\n",
       "</style>\n",
       "<table border=\"1\" class=\"dataframe\">\n",
       "  <thead>\n",
       "    <tr style=\"text-align: right;\">\n",
       "      <th></th>\n",
       "      <th>subject_id</th>\n",
       "      <th>datetime</th>\n",
       "      <th>x</th>\n",
       "      <th>y</th>\n",
       "      <th>z</th>\n",
       "    </tr>\n",
       "  </thead>\n",
       "  <tbody>\n",
       "    <tr>\n",
       "      <th>0</th>\n",
       "      <td>2</td>\n",
       "      <td>2018-06-11T10:45:39.643+0900</td>\n",
       "      <td>-1.723</td>\n",
       "      <td>0.651</td>\n",
       "      <td>9.625</td>\n",
       "    </tr>\n",
       "    <tr>\n",
       "      <th>1</th>\n",
       "      <td>2</td>\n",
       "      <td>2018-06-01T10:59:22.466+0900</td>\n",
       "      <td>-2.260</td>\n",
       "      <td>0.996</td>\n",
       "      <td>9.471</td>\n",
       "    </tr>\n",
       "    <tr>\n",
       "      <th>2</th>\n",
       "      <td>2</td>\n",
       "      <td>2018-06-07T17:20:35.638+0900</td>\n",
       "      <td>1.685</td>\n",
       "      <td>1.800</td>\n",
       "      <td>9.489</td>\n",
       "    </tr>\n",
       "    <tr>\n",
       "      <th>3</th>\n",
       "      <td>2</td>\n",
       "      <td>2018-06-11T17:31:06.863+0900</td>\n",
       "      <td>-1.762</td>\n",
       "      <td>-2.068</td>\n",
       "      <td>9.436</td>\n",
       "    </tr>\n",
       "    <tr>\n",
       "      <th>4</th>\n",
       "      <td>2</td>\n",
       "      <td>2018-06-19T10:11:05.374+0900</td>\n",
       "      <td>2.834</td>\n",
       "      <td>-8.849</td>\n",
       "      <td>0.001</td>\n",
       "    </tr>\n",
       "  </tbody>\n",
       "</table>\n",
       "</div>"
      ],
      "text/plain": [
       "   subject_id                      datetime      x      y      z\n",
       "0           2  2018-06-11T10:45:39.643+0900 -1.723  0.651  9.625\n",
       "1           2  2018-06-01T10:59:22.466+0900 -2.260  0.996  9.471\n",
       "2           2  2018-06-07T17:20:35.638+0900  1.685  1.800  9.489\n",
       "3           2  2018-06-11T17:31:06.863+0900 -1.762 -2.068  9.436\n",
       "4           2  2018-06-19T10:11:05.374+0900  2.834 -8.849  0.001"
      ]
     },
     "execution_count": 45,
     "metadata": {
      "tags": []
     },
     "output_type": "execute_result"
    }
   ],
   "source": [
    "df.head(5)"
   ]
  },
  {
   "cell_type": "markdown",
   "metadata": {
    "id": "a6YAYSpBLZFC"
   },
   "source": [
    "We can see that the data file contains 5 columns: subject_id, datetime, and 3 coordinates of the accelerometer data."
   ]
  },
  {
   "cell_type": "code",
   "execution_count": 46,
   "metadata": {
    "colab": {
     "base_uri": "https://localhost:8080/",
     "height": 202
    },
    "executionInfo": {
     "elapsed": 596,
     "status": "ok",
     "timestamp": 1618486754433,
     "user": {
      "displayName": "Nhật Tân Lê",
      "photoUrl": "",
      "userId": "10252455260261302381"
     },
     "user_tz": -540
    },
    "id": "wxTpV3BTLPg1",
    "outputId": "96de1a7f-3b17-4301-97eb-21ab9f2199a4"
   },
   "outputs": [
    {
     "data": {
      "text/html": [
       "<div>\n",
       "<style scoped>\n",
       "    .dataframe tbody tr th:only-of-type {\n",
       "        vertical-align: middle;\n",
       "    }\n",
       "\n",
       "    .dataframe tbody tr th {\n",
       "        vertical-align: top;\n",
       "    }\n",
       "\n",
       "    .dataframe thead th {\n",
       "        text-align: right;\n",
       "    }\n",
       "</style>\n",
       "<table border=\"1\" class=\"dataframe\">\n",
       "  <thead>\n",
       "    <tr style=\"text-align: right;\">\n",
       "      <th></th>\n",
       "      <th>id</th>\n",
       "      <th>user_id</th>\n",
       "      <th>activity_type_id</th>\n",
       "      <th>activity_type</th>\n",
       "      <th>target_id</th>\n",
       "      <th>activity2user_id</th>\n",
       "      <th>start</th>\n",
       "      <th>finish</th>\n",
       "    </tr>\n",
       "  </thead>\n",
       "  <tbody>\n",
       "    <tr>\n",
       "      <th>0</th>\n",
       "      <td>2098</td>\n",
       "      <td>38</td>\n",
       "      <td>26</td>\n",
       "      <td>休憩</td>\n",
       "      <td>2</td>\n",
       "      <td>19790</td>\n",
       "      <td>NaN</td>\n",
       "      <td>NaN</td>\n",
       "    </tr>\n",
       "    <tr>\n",
       "      <th>1</th>\n",
       "      <td>2852</td>\n",
       "      <td>5</td>\n",
       "      <td>26</td>\n",
       "      <td>休憩</td>\n",
       "      <td>5</td>\n",
       "      <td>21912</td>\n",
       "      <td>NaN</td>\n",
       "      <td>2018-03-15 03:41:24 +0900</td>\n",
       "    </tr>\n",
       "    <tr>\n",
       "      <th>2</th>\n",
       "      <td>5487</td>\n",
       "      <td>25</td>\n",
       "      <td>26</td>\n",
       "      <td>休憩</td>\n",
       "      <td>25</td>\n",
       "      <td>28937</td>\n",
       "      <td>NaN</td>\n",
       "      <td>2018-04-12 22:29:33 +0900</td>\n",
       "    </tr>\n",
       "    <tr>\n",
       "      <th>3</th>\n",
       "      <td>8872</td>\n",
       "      <td>26</td>\n",
       "      <td>26</td>\n",
       "      <td>休憩</td>\n",
       "      <td>26</td>\n",
       "      <td>37322</td>\n",
       "      <td>NaN</td>\n",
       "      <td>2018-04-26 13:52:11 +0900</td>\n",
       "    </tr>\n",
       "    <tr>\n",
       "      <th>4</th>\n",
       "      <td>9672</td>\n",
       "      <td>26</td>\n",
       "      <td>26</td>\n",
       "      <td>休憩</td>\n",
       "      <td>26</td>\n",
       "      <td>39599</td>\n",
       "      <td>NaN</td>\n",
       "      <td>2018-05-01 13:58:43 +0900</td>\n",
       "    </tr>\n",
       "  </tbody>\n",
       "</table>\n",
       "</div>"
      ],
      "text/plain": [
       "     id  user_id  ...  start                     finish\n",
       "0  2098       38  ...    NaN                        NaN\n",
       "1  2852        5  ...    NaN  2018-03-15 03:41:24 +0900\n",
       "2  5487       25  ...    NaN  2018-04-12 22:29:33 +0900\n",
       "3  8872       26  ...    NaN  2018-04-26 13:52:11 +0900\n",
       "4  9672       26  ...    NaN  2018-05-01 13:58:43 +0900\n",
       "\n",
       "[5 rows x 8 columns]"
      ]
     },
     "execution_count": 46,
     "metadata": {
      "tags": []
     },
     "output_type": "execute_result"
    }
   ],
   "source": [
    "df_label.head(5)"
   ]
  },
  {
   "cell_type": "markdown",
   "metadata": {
    "id": "TR_kS0srLm4P"
   },
   "source": [
    "For label file, we have 8 columns: id (label id), user_id, activity_type_id, activity_type (name), target_id (patients), activity2user_id, start and finish timestamp of the activity.\n"
   ]
  },
  {
   "cell_type": "markdown",
   "metadata": {
    "id": "7-sR3lkLNJ2J"
   },
   "source": [
    "Visualization the data"
   ]
  },
  {
   "cell_type": "code",
   "execution_count": 47,
   "metadata": {
    "colab": {
     "base_uri": "https://localhost:8080/",
     "height": 295
    },
    "executionInfo": {
     "elapsed": 42391,
     "status": "ok",
     "timestamp": 1618486800200,
     "user": {
      "displayName": "Nhật Tân Lê",
      "photoUrl": "",
      "userId": "10252455260261302381"
     },
     "user_tz": -540
    },
    "id": "L1A5LuiJLr8B",
    "outputId": "dcb45efd-2056-4f87-a621-1a726a6eba71"
   },
   "outputs": [
    {
     "data": {
      "text/plain": [
       "<matplotlib.axes._subplots.AxesSubplot at 0x7f083800c0d0>"
      ]
     },
     "execution_count": 47,
     "metadata": {
      "tags": []
     },
     "output_type": "execute_result"
    },
    {
     "data": {
      "image/png": "[encoded data removed]",
      "text/plain": [
       "<Figure size 432x288 with 1 Axes>"
      ]
     },
     "metadata": {
      "needs_background": "light",
      "tags": []
     },
     "output_type": "display_data"
    }
   ],
   "source": [
    "df.plot()"
   ]
  },
  {
   "cell_type": "markdown",
   "metadata": {
    "id": "z-gv9Y4ZZt2P"
   },
   "source": [
    "Check the bar plot of labels"
   ]
  },
  {
   "cell_type": "code",
   "execution_count": 4,
   "metadata": {
    "colab": {
     "base_uri": "https://localhost:8080/",
     "height": 285
    },
    "executionInfo": {
     "elapsed": 1088,
     "status": "ok",
     "timestamp": 1618487983632,
     "user": {
      "displayName": "Nhật Tân Lê",
      "photoUrl": "",
      "userId": "10252455260261302381"
     },
     "user_tz": -540
    },
    "id": "RlZ4YI0EWAnG",
    "outputId": "7ee29ad0-3c61-41be-b6f1-7f6f18715ff2"
   },
   "outputs": [
    {
     "data": {
      "text/plain": [
       "<matplotlib.axes._subplots.AxesSubplot at 0x2b4108f9460>"
      ]
     },
     "execution_count": 4,
     "metadata": {},
     "output_type": "execute_result"
    },
    {
     "data": {
      "image/png": "[encoded data removed]",
      "text/plain": [
       "<Figure size 432x288 with 1 Axes>"
      ]
     },
     "metadata": {
      "needs_background": "light"
     },
     "output_type": "display_data"
    }
   ],
   "source": [
    "activity_map = {\n",
    "1: \"Vital\", \n",
    "2: \"Meal / medication\", \n",
    "3: \"Oral care\", \n",
    "4: \"Excretion\", \n",
    "5: \"Bathing / wiping\",\n",
    "6: \"Treatment\", \n",
    "7: \"Morning gathering / exercises\", \n",
    "8: \"Rehabilitation / recreation\", \n",
    "9: \"Morning care\", \n",
    "10: \"Daytime user response\", \n",
    "11: \"Night care\", \n",
    "12: \"Nighttime user response\", \n",
    "13: \"Family / guest response\", \n",
    "14: \"Outing response\", \n",
    "19: \"Get up assistance\", \n",
    "20: \"Change dressing assistance\", \n",
    "21: \"Washing assistance\", \n",
    "27: \"Emergency response such as acciden\",\n",
    "15: \"Linen exchange\", \n",
    "16: \"Cleaning\",\n",
    "23: \"Preparation and checking of goods\", \n",
    "24: \"Organization of medications\",\n",
    "17: \"Handwriting recording\", \n",
    "18: \"Delegating / meeting\", \n",
    "22: \"Doctor visit correspondence\", \n",
    "25: \"Family / doctor contact\",\n",
    "26: \"Break\", \n",
    "28: \"Special remarks / notes\"\n",
    "}\n",
    "\n",
    "df_label[\"activity_type_e\"]=df_label[\"activity_type_id\"].map(activity_map)\n",
    "df_label['activity_type_e'].value_counts().plot.bar()"
   ]
  },
  {
   "cell_type": "markdown",
   "metadata": {
    "id": "DO1s1L3sNMJ0"
   },
   "source": [
    "# Pre-processing the data"
   ]
  },
  {
   "cell_type": "markdown",
   "metadata": {
    "id": "TqI8WeYwNc0-"
   },
   "source": [
    "The missing value and duplicated value rows are dropped. But we can also use several methods to handle missing value, it depends on your pipelines.\n",
    "\n",
    "All the values are sorted by datetime"
   ]
  },
  {
   "cell_type": "code",
   "execution_count": 48,
   "metadata": {
    "executionInfo": {
     "elapsed": 38872,
     "status": "ok",
     "timestamp": 1618486843897,
     "user": {
      "displayName": "Nhật Tân Lê",
      "photoUrl": "",
      "userId": "10252455260261302381"
     },
     "user_tz": -540
    },
    "id": "8YwGXAnYNQMy"
   },
   "outputs": [],
   "source": [
    "df = df.dropna()\n",
    "df = df.sort_values('datetime')\n",
    "df = df.drop_duplicates()"
   ]
  },
  {
   "cell_type": "markdown",
   "metadata": {
    "id": "nsIdn84ONwse"
   },
   "source": [
    "In the label file, nan and duplicated value rows are also dropped."
   ]
  },
  {
   "cell_type": "code",
   "execution_count": 50,
   "metadata": {
    "executionInfo": {
     "elapsed": 1019,
     "status": "ok",
     "timestamp": 1618486848685,
     "user": {
      "displayName": "Nhật Tân Lê",
      "photoUrl": "",
      "userId": "10252455260261302381"
     },
     "user_tz": -540
    },
    "id": "OAk9txlDOETD"
   },
   "outputs": [],
   "source": [
    "df_label = df_label.drop_duplicates('id')\n",
    "df_label = df_label.dropna()"
   ]
  },
  {
   "cell_type": "markdown",
   "metadata": {
    "id": "RgOWoPiHTGzh"
   },
   "source": [
    "Now, we only get the label of user we utilize"
   ]
  },
  {
   "cell_type": "code",
   "execution_count": 51,
   "metadata": {
    "executionInfo": {
     "elapsed": 1776,
     "status": "ok",
     "timestamp": 1618486853058,
     "user": {
      "displayName": "Nhật Tân Lê",
      "photoUrl": "",
      "userId": "10252455260261302381"
     },
     "user_tz": -540
    },
    "id": "_Ul_lGYbOMiK"
   },
   "outputs": [],
   "source": [
    "df_label_user=df_label[df_label['user_id']==df['subject_id'].sample(1).values[0]]"
   ]
  },
  {
   "cell_type": "markdown",
   "metadata": {
    "id": "ofQxUnm4TRQe"
   },
   "source": [
    "We change all the timestamp data into the same data type"
   ]
  },
  {
   "cell_type": "code",
   "execution_count": null,
   "metadata": {
    "id": "9Ww3go7fOQPc"
   },
   "outputs": [],
   "source": [
    "df['datetime']= pd.to_datetime(df['datetime'], format='%Y-%m-%dT%H:%M:%S.%f%z')\n",
    "df_label_user['start'] = pd.to_datetime(df_label_user['start'], format='%Y-%m-%d %H:%M:%S %z')\n",
    "df_label_user['finish'] = pd.to_datetime(df_label_user['finish'], format='%Y-%m-%d %H:%M:%S %z')"
   ]
  },
  {
   "cell_type": "markdown",
   "metadata": {
    "id": "sY0gBo30TXGp"
   },
   "source": [
    "We can check how the data change after pre-processing"
   ]
  },
  {
   "cell_type": "code",
   "execution_count": 53,
   "metadata": {
    "colab": {
     "base_uri": "https://localhost:8080/",
     "height": 202
    },
    "executionInfo": {
     "elapsed": 1563,
     "status": "ok",
     "timestamp": 1618487159625,
     "user": {
      "displayName": "Nhật Tân Lê",
      "photoUrl": "",
      "userId": "10252455260261302381"
     },
     "user_tz": -540
    },
    "id": "3iUigVR2PAQF",
    "outputId": "63b8ad05-a104-413a-dccc-5377bc8f2acf"
   },
   "outputs": [
    {
     "data": {
      "text/html": [
       "<div>\n",
       "<style scoped>\n",
       "    .dataframe tbody tr th:only-of-type {\n",
       "        vertical-align: middle;\n",
       "    }\n",
       "\n",
       "    .dataframe tbody tr th {\n",
       "        vertical-align: top;\n",
       "    }\n",
       "\n",
       "    .dataframe thead th {\n",
       "        text-align: right;\n",
       "    }\n",
       "</style>\n",
       "<table border=\"1\" class=\"dataframe\">\n",
       "  <thead>\n",
       "    <tr style=\"text-align: right;\">\n",
       "      <th></th>\n",
       "      <th>subject_id</th>\n",
       "      <th>datetime</th>\n",
       "      <th>x</th>\n",
       "      <th>y</th>\n",
       "      <th>z</th>\n",
       "    </tr>\n",
       "  </thead>\n",
       "  <tbody>\n",
       "    <tr>\n",
       "      <th>1054607</th>\n",
       "      <td>2</td>\n",
       "      <td>2018-05-31 08:26:31.126000+09:00</td>\n",
       "      <td>-9.423</td>\n",
       "      <td>0.076</td>\n",
       "      <td>0.227</td>\n",
       "    </tr>\n",
       "    <tr>\n",
       "      <th>1894989</th>\n",
       "      <td>2</td>\n",
       "      <td>2018-05-31 08:26:31.326000+09:00</td>\n",
       "      <td>-9.462</td>\n",
       "      <td>0.000</td>\n",
       "      <td>0.227</td>\n",
       "    </tr>\n",
       "    <tr>\n",
       "      <th>1065508</th>\n",
       "      <td>2</td>\n",
       "      <td>2018-05-31 08:26:31.526000+09:00</td>\n",
       "      <td>-9.347</td>\n",
       "      <td>0.076</td>\n",
       "      <td>0.227</td>\n",
       "    </tr>\n",
       "    <tr>\n",
       "      <th>1066550</th>\n",
       "      <td>2</td>\n",
       "      <td>2018-05-31 08:26:31.533000+09:00</td>\n",
       "      <td>-9.347</td>\n",
       "      <td>0.076</td>\n",
       "      <td>0.227</td>\n",
       "    </tr>\n",
       "    <tr>\n",
       "      <th>5875832</th>\n",
       "      <td>2</td>\n",
       "      <td>2018-05-31 08:26:31.726000+09:00</td>\n",
       "      <td>-9.385</td>\n",
       "      <td>0.076</td>\n",
       "      <td>0.235</td>\n",
       "    </tr>\n",
       "  </tbody>\n",
       "</table>\n",
       "</div>"
      ],
      "text/plain": [
       "         subject_id                         datetime      x      y      z\n",
       "1054607           2 2018-05-31 08:26:31.126000+09:00 -9.423  0.076  0.227\n",
       "1894989           2 2018-05-31 08:26:31.326000+09:00 -9.462  0.000  0.227\n",
       "1065508           2 2018-05-31 08:26:31.526000+09:00 -9.347  0.076  0.227\n",
       "1066550           2 2018-05-31 08:26:31.533000+09:00 -9.347  0.076  0.227\n",
       "5875832           2 2018-05-31 08:26:31.726000+09:00 -9.385  0.076  0.235"
      ]
     },
     "execution_count": 53,
     "metadata": {
      "tags": []
     },
     "output_type": "execute_result"
    }
   ],
   "source": [
    "df.head(5)"
   ]
  },
  {
   "cell_type": "code",
   "execution_count": 54,
   "metadata": {
    "colab": {
     "base_uri": "https://localhost:8080/",
     "height": 309
    },
    "executionInfo": {
     "elapsed": 604,
     "status": "ok",
     "timestamp": 1618487164669,
     "user": {
      "displayName": "Nhật Tân Lê",
      "photoUrl": "",
      "userId": "10252455260261302381"
     },
     "user_tz": -540
    },
    "id": "SiAPbowTQlJ7",
    "outputId": "082823f1-037a-4e5a-9f65-81715f9d0158"
   },
   "outputs": [
    {
     "data": {
      "text/html": [
       "<div>\n",
       "<style scoped>\n",
       "    .dataframe tbody tr th:only-of-type {\n",
       "        vertical-align: middle;\n",
       "    }\n",
       "\n",
       "    .dataframe tbody tr th {\n",
       "        vertical-align: top;\n",
       "    }\n",
       "\n",
       "    .dataframe thead th {\n",
       "        text-align: right;\n",
       "    }\n",
       "</style>\n",
       "<table border=\"1\" class=\"dataframe\">\n",
       "  <thead>\n",
       "    <tr style=\"text-align: right;\">\n",
       "      <th></th>\n",
       "      <th>id</th>\n",
       "      <th>user_id</th>\n",
       "      <th>activity_type_id</th>\n",
       "      <th>activity_type</th>\n",
       "      <th>target_id</th>\n",
       "      <th>activity2user_id</th>\n",
       "      <th>start</th>\n",
       "      <th>finish</th>\n",
       "    </tr>\n",
       "  </thead>\n",
       "  <tbody>\n",
       "    <tr>\n",
       "      <th>47</th>\n",
       "      <td>4375</td>\n",
       "      <td>2</td>\n",
       "      <td>26</td>\n",
       "      <td>休憩</td>\n",
       "      <td>2</td>\n",
       "      <td>26018</td>\n",
       "      <td>2018-04-05 08:38:38+09:00</td>\n",
       "      <td>2018-04-05 08:38:39+09:00</td>\n",
       "    </tr>\n",
       "    <tr>\n",
       "      <th>362</th>\n",
       "      <td>5960</td>\n",
       "      <td>2</td>\n",
       "      <td>6</td>\n",
       "      <td>処置</td>\n",
       "      <td>29</td>\n",
       "      <td>30128</td>\n",
       "      <td>2018-04-14 14:47:41+09:00</td>\n",
       "      <td>2018-04-14 14:47:42+09:00</td>\n",
       "    </tr>\n",
       "    <tr>\n",
       "      <th>4006</th>\n",
       "      <td>9704</td>\n",
       "      <td>2</td>\n",
       "      <td>4</td>\n",
       "      <td>排泄</td>\n",
       "      <td>81</td>\n",
       "      <td>39664</td>\n",
       "      <td>2018-05-01 17:03:26+09:00</td>\n",
       "      <td>2018-05-01 17:03:50+09:00</td>\n",
       "    </tr>\n",
       "    <tr>\n",
       "      <th>4361</th>\n",
       "      <td>11412</td>\n",
       "      <td>2</td>\n",
       "      <td>4</td>\n",
       "      <td>排泄</td>\n",
       "      <td>31</td>\n",
       "      <td>43065</td>\n",
       "      <td>2018-05-04 18:29:20+09:00</td>\n",
       "      <td>2018-05-04 18:29:54+09:00</td>\n",
       "    </tr>\n",
       "    <tr>\n",
       "      <th>6394</th>\n",
       "      <td>19144</td>\n",
       "      <td>2</td>\n",
       "      <td>4</td>\n",
       "      <td>排泄</td>\n",
       "      <td>36</td>\n",
       "      <td>58459</td>\n",
       "      <td>2018-05-17 18:00:50+09:00</td>\n",
       "      <td>2018-05-17 18:02:48+09:00</td>\n",
       "    </tr>\n",
       "  </tbody>\n",
       "</table>\n",
       "</div>"
      ],
      "text/plain": [
       "         id  user_id  ...                     start                    finish\n",
       "47     4375        2  ... 2018-04-05 08:38:38+09:00 2018-04-05 08:38:39+09:00\n",
       "362    5960        2  ... 2018-04-14 14:47:41+09:00 2018-04-14 14:47:42+09:00\n",
       "4006   9704        2  ... 2018-05-01 17:03:26+09:00 2018-05-01 17:03:50+09:00\n",
       "4361  11412        2  ... 2018-05-04 18:29:20+09:00 2018-05-04 18:29:54+09:00\n",
       "6394  19144        2  ... 2018-05-17 18:00:50+09:00 2018-05-17 18:02:48+09:00\n",
       "\n",
       "[5 rows x 8 columns]"
      ]
     },
     "execution_count": 54,
     "metadata": {
      "tags": []
     },
     "output_type": "execute_result"
    }
   ],
   "source": [
    "df_label_user.head(5)"
   ]
  },
  {
   "cell_type": "markdown",
   "metadata": {
    "id": "NqgEUCxeTkvP"
   },
   "source": [
    "# Segmentation"
   ]
  },
  {
   "cell_type": "markdown",
   "metadata": {
    "id": "XeSYJ9ciTny5"
   },
   "source": [
    "We try to reset the index value"
   ]
  },
  {
   "cell_type": "code",
   "execution_count": 55,
   "metadata": {
    "executionInfo": {
     "elapsed": 644,
     "status": "ok",
     "timestamp": 1618487172364,
     "user": {
      "displayName": "Nhật Tân Lê",
      "photoUrl": "",
      "userId": "10252455260261302381"
     },
     "user_tz": -540
    },
    "id": "-tWmqOwMRZbh"
   },
   "outputs": [],
   "source": [
    "df_label_user=df_label_user.reset_index()\n",
    "df_label_user=df_label_user.drop(columns='index')"
   ]
  },
  {
   "cell_type": "code",
   "execution_count": null,
   "metadata": {
    "id": "c55PkDMTWpYd"
   },
   "outputs": [],
   "source": [
    "df_label_user.head(5)"
   ]
  },
  {
   "cell_type": "markdown",
   "metadata": {
    "id": "bzd4OJ1HTrFg"
   },
   "source": [
    "Segment the data by the timestamp given by label file.\n",
    "\n",
    "Every segment windows are extracted by the start and finish time of the activity in label file."
   ]
  },
  {
   "cell_type": "code",
   "execution_count": 64,
   "metadata": {
    "executionInfo": {
     "elapsed": 13285,
     "status": "ok",
     "timestamp": 1618487579660,
     "user": {
      "displayName": "Nhật Tân Lê",
      "photoUrl": "",
      "userId": "10252455260261302381"
     },
     "user_tz": -540
    },
    "id": "zIIM0ctKQaXS"
   },
   "outputs": [],
   "source": [
    "seg_list = []\n",
    "seg_label_list = []\n",
    "\n",
    "for i in range(len(df_label_user)):\n",
    "    \n",
    "    seg = df[(df[\"datetime\"] >=df_label_user['start'][i]) & (df[\"datetime\"] <= df_label_user['finish'][i])]\n",
    "    seg_label = df_label_user[\"activity_type_id\"][i]\n",
    "    if (len(seg)!=0):\n",
    "        seg_list.append(seg)\n",
    "        seg_label_list.append(seg_label)"
   ]
  },
  {
   "cell_type": "markdown",
   "metadata": {
    "id": "U9-pSjhHT4Gc"
   },
   "source": [
    "# Features Extraction"
   ]
  },
  {
   "cell_type": "markdown",
   "metadata": {
    "id": "RrRpPKh_UIXV"
   },
   "source": [
    "In this tutorial, we extract 4 main features: STD, Average, Max, Min of 3 coordinates."
   ]
  },
  {
   "cell_type": "code",
   "execution_count": 70,
   "metadata": {
    "executionInfo": {
     "elapsed": 574,
     "status": "ok",
     "timestamp": 1618487638307,
     "user": {
      "displayName": "Nhật Tân Lê",
      "photoUrl": "",
      "userId": "10252455260261302381"
     },
     "user_tz": -540
    },
    "id": "jXQYQIkqT6qk"
   },
   "outputs": [],
   "source": [
    "def get_features(x_data):\n",
    "    #Set features list\n",
    "    features = []\n",
    "    #Set columns name list\n",
    "    DFclist=list(x_data.columns)\n",
    "\n",
    "    #Calculate features (STD, Average, Max, Min) for each data columns X Y Z \n",
    "    for k in DFclist:\n",
    "        # std\n",
    "        features.append(x_data[k].std(ddof=0))\n",
    "        # avg\n",
    "        features.append(np.average(x_data[k]))\n",
    "        # max\n",
    "        features.append(np.max(x_data[k]))\n",
    "        # min\n",
    "        features.append(np.min(x_data[k]))\n",
    "    return features"
   ]
  },
  {
   "cell_type": "code",
   "execution_count": 73,
   "metadata": {
    "executionInfo": {
     "elapsed": 570,
     "status": "ok",
     "timestamp": 1618487754354,
     "user": {
      "displayName": "Nhật Tân Lê",
      "photoUrl": "",
      "userId": "10252455260261302381"
     },
     "user_tz": -540
    },
    "id": "t4VrET1yUd-w"
   },
   "outputs": [],
   "source": [
    "features_list = []\n",
    "for i in seg_list:\n",
    "  #Drop 2 columns 'subject_id' and 'datetime', we only use 3 columns x, y, z\n",
    "  i = i.drop(columns=['subject_id','datetime'])\n",
    "  features_list.append(get_features(i))"
   ]
  },
  {
   "cell_type": "markdown",
   "metadata": {
    "id": "nfbEtwt6UWA1"
   },
   "source": [
    "# Training"
   ]
  },
  {
   "cell_type": "markdown",
   "metadata": {
    "id": "sbqOr-2qavIH"
   },
   "source": [
    "The Random Forest Model is utilized in this tutorial"
   ]
  },
  {
   "cell_type": "code",
   "execution_count": 74,
   "metadata": {
    "executionInfo": {
     "elapsed": 2056,
     "status": "ok",
     "timestamp": 1618487818093,
     "user": {
      "displayName": "Nhật Tân Lê",
      "photoUrl": "",
      "userId": "10252455260261302381"
     },
     "user_tz": -540
    },
    "id": "92e1VZYbUYA3"
   },
   "outputs": [],
   "source": [
    "from sklearn.ensemble import RandomForestClassifier         \n",
    "model_ml = RandomForestClassifier(n_estimators=500,n_jobs=-1)"
   ]
  },
  {
   "cell_type": "markdown",
   "metadata": {
    "id": "2VHIiukra1YN"
   },
   "source": [
    "Divide data into train and test file to evaluate the results"
   ]
  },
  {
   "cell_type": "code",
   "execution_count": 75,
   "metadata": {
    "executionInfo": {
     "elapsed": 1143,
     "status": "ok",
     "timestamp": 1618487901830,
     "user": {
      "displayName": "Nhật Tân Lê",
      "photoUrl": "",
      "userId": "10252455260261302381"
     },
     "user_tz": -540
    },
    "id": "Ghed5GPbZE-r"
   },
   "outputs": [],
   "source": [
    "from sklearn.model_selection import train_test_split\n",
    "X_train, X_test, y_train, y_test = train_test_split(features_list, seg_label_list, test_size=0.3, random_state=42)"
   ]
  },
  {
   "cell_type": "markdown",
   "metadata": {
    "id": "IxJCNnQibFNp"
   },
   "source": [
    "Train the model"
   ]
  },
  {
   "cell_type": "code",
   "execution_count": 76,
   "metadata": {
    "colab": {
     "base_uri": "https://localhost:8080/"
    },
    "executionInfo": {
     "elapsed": 1564,
     "status": "ok",
     "timestamp": 1618487923816,
     "user": {
      "displayName": "Nhật Tân Lê",
      "photoUrl": "",
      "userId": "10252455260261302381"
     },
     "user_tz": -540
    },
    "id": "HB7CYGihUcIP",
    "outputId": "5f743527-1317-4d84-d077-79f44f002d90"
   },
   "outputs": [
    {
     "data": {
      "text/plain": [
       "RandomForestClassifier(bootstrap=True, ccp_alpha=0.0, class_weight=None,\n",
       "                       criterion='gini', max_depth=None, max_features='auto',\n",
       "                       max_leaf_nodes=None, max_samples=None,\n",
       "                       min_impurity_decrease=0.0, min_impurity_split=None,\n",
       "                       min_samples_leaf=1, min_samples_split=2,\n",
       "                       min_weight_fraction_leaf=0.0, n_estimators=500,\n",
       "                       n_jobs=-1, oob_score=False, random_state=None, verbose=0,\n",
       "                       warm_start=False)"
      ]
     },
     "execution_count": 76,
     "metadata": {
      "tags": []
     },
     "output_type": "execute_result"
    }
   ],
   "source": [
    "model_ml.fit(X_train, y_train)"
   ]
  },
  {
   "cell_type": "markdown",
   "metadata": {
    "id": "HdnxVsLgbG_o"
   },
   "source": [
    "Check the results"
   ]
  },
  {
   "cell_type": "code",
   "execution_count": 78,
   "metadata": {
    "colab": {
     "base_uri": "https://localhost:8080/"
    },
    "executionInfo": {
     "elapsed": 581,
     "status": "ok",
     "timestamp": 1618487963914,
     "user": {
      "displayName": "Nhật Tân Lê",
      "photoUrl": "",
      "userId": "10252455260261302381"
     },
     "user_tz": -540
    },
    "id": "gp1npEzvUv6j",
    "outputId": "1dc6b7a9-3dcc-4214-e538-076d2d309b65"
   },
   "outputs": [
    {
     "name": "stdout",
     "output_type": "stream",
     "text": [
      "              precision    recall  f1-score   support\n",
      "\n",
      "           1       0.00      0.00      0.00         0\n",
      "           4       0.60      0.33      0.43         9\n",
      "           7       1.00      0.50      0.67         2\n",
      "          10       0.42      0.71      0.53         7\n",
      "          13       0.00      0.00      0.00         1\n",
      "\n",
      "    accuracy                           0.47        19\n",
      "   macro avg       0.40      0.31      0.32        19\n",
      "weighted avg       0.54      0.47      0.47        19\n",
      "\n"
     ]
    },
    {
     "name": "stderr",
     "output_type": "stream",
     "text": [
      "/usr/local/lib/python3.7/dist-packages/sklearn/metrics/_classification.py:1272: UndefinedMetricWarning: Precision and F-score are ill-defined and being set to 0.0 in labels with no predicted samples. Use `zero_division` parameter to control this behavior.\n",
      "  _warn_prf(average, modifier, msg_start, len(result))\n",
      "/usr/local/lib/python3.7/dist-packages/sklearn/metrics/_classification.py:1272: UndefinedMetricWarning: Recall and F-score are ill-defined and being set to 0.0 in labels with no true samples. Use `zero_division` parameter to control this behavior.\n",
      "  _warn_prf(average, modifier, msg_start, len(result))\n"
     ]
    },
    {
     "data": {
      "text/plain": [
       "array([[0, 0, 0, 0, 0],\n",
       "       [0, 3, 0, 6, 0],\n",
       "       [1, 0, 1, 0, 0],\n",
       "       [0, 2, 0, 5, 0],\n",
       "       [0, 0, 0, 1, 0]])"
      ]
     },
     "execution_count": 78,
     "metadata": {
      "tags": []
     },
     "output_type": "execute_result"
    }
   ],
   "source": [
    "from sklearn.metrics import classification_report\n",
    "from sklearn.metrics import confusion_matrix\n",
    "\n",
    "y_predict = model_ml.predict(X_test)\n",
    "print(classification_report(y_test,y_predict))\n",
    "confusion_matrix(y_test, y_predict)"
   ]
  },
  {
   "cell_type": "markdown",
   "metadata": {
    "id": "QsA-mz_xbKDD"
   },
   "source": [
    "Now, your turn!\n",
    "Let's analyze the challenge dataset!"
   ]
  }
 ],
 "metadata": {
  "colab": {
   "authorship_tag": "ABX9TyNemBar1XjMd4BCpgxnQa3l",
   "mount_file_id": "11a6V9-3oM8wQYJVj1sri9Z-HfQOwa3EF",
   "name": "HASCA_tutorial.ipynb",
   "provenance": []
  },
  "kernelspec": {
   "display_name": "Python 3 (ipykernel)",
   "language": "python",
   "name": "python3"
  },
  "language_info": {
   "codemirror_mode": {
    "name": "ipython",
    "version": 3
   },
   "file_extension": ".py",
   "mimetype": "text/x-python",
   "name": "python",
   "nbconvert_exporter": "python",
   "pygments_lexer": "ipython3",
   "version": "3.8.5"
  }
 },
 "nbformat": 4,
 "nbformat_minor": 4
}
